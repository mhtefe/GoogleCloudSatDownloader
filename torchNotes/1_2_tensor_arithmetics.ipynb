{
  "nbformat": 4,
  "nbformat_minor": 0,
  "metadata": {
    "colab": {
      "name": "1_2_tensor_arithmetics.ipynb",
      "provenance": [],
      "collapsed_sections": [],
      "authorship_tag": "ABX9TyNAOpI5OMj/QffZFnxAxsU4",
      "include_colab_link": true
    },
    "kernelspec": {
      "name": "python3",
      "display_name": "Python 3"
    }
  },
  "cells": [
    {
      "cell_type": "markdown",
      "metadata": {
        "id": "view-in-github",
        "colab_type": "text"
      },
      "source": [
        "<a href=\"https://colab.research.google.com/github/mhtefe/GoogleCloudSatDownloader/blob/master/torchNotes/1_2_tensor_arithmetics.ipynb\" target=\"_parent\"><img src=\"https://colab.research.google.com/assets/colab-badge.svg\" alt=\"Open In Colab\"/></a>"
      ]
    },
    {
      "cell_type": "code",
      "metadata": {
        "id": "UbeuLSrn_rWq",
        "colab_type": "code",
        "colab": {
          "base_uri": "https://localhost:8080/",
          "height": 34
        },
        "outputId": "8e359a29-f9bc-4d52-ed84-c919c6d81616"
      },
      "source": [
        "import os\n",
        "import numpy as np\n",
        "import torch\n",
        "print(torch.__version__)"
      ],
      "execution_count": null,
      "outputs": [
        {
          "output_type": "stream",
          "text": [
            "1.5.1+cu101\n"
          ],
          "name": "stdout"
        }
      ]
    },
    {
      "cell_type": "code",
      "metadata": {
        "id": "pRp7YQEZBJeL",
        "colab_type": "code",
        "colab": {
          "base_uri": "https://localhost:8080/",
          "height": 34
        },
        "outputId": "df798f5d-ec1a-43c5-954a-058a2fe79905"
      },
      "source": [
        "#simplify line seperator\n",
        "sep = lambda : print('-'*50)"
      ],
      "execution_count": null,
      "outputs": [
        {
          "output_type": "stream",
          "text": [
            "--------------------\n"
          ],
          "name": "stdout"
        }
      ]
    },
    {
      "cell_type": "code",
      "metadata": {
        "id": "QTJIHZXI_veO",
        "colab_type": "code",
        "colab": {
          "base_uri": "https://localhost:8080/",
          "height": 153
        },
        "outputId": "064c45d5-dfb3-458a-ae10-24ec6cc75156"
      },
      "source": [
        "a = torch.ones([2,2])\n",
        "\n",
        "b = torch.ones([2,2])\n",
        "\n",
        "c1 = a+b\n",
        "c2 = torch.add(a, b)\n",
        "c3 = c2\n",
        "c3.add_(a)\n",
        "\n",
        "sep( )\n",
        "\n",
        "d1 = a-b\n",
        "d2 = a.sub(b)\n",
        "d3 = d2\n",
        "d3.sub_(a)\n",
        "\n",
        "sep( )\n",
        "\n",
        "#%%\n",
        "a = torch.Tensor([1, 2, 3, 4, 5, 6, 7, 8, 9, 10])\n",
        "print(a.size() )\n",
        "\n",
        "print( a.mean(dim=0) )\n",
        "\n",
        "#simple multi-dimensional\n",
        "a = torch.Tensor([[1, 2, 3, 4, 5, 6, 7, 8, 9, 10], [1, 2, 3, 4, 5, 6, 7, 8, 9, 10]])\n",
        "print('a size: ', a.size() )\n",
        "print('a mean x: ', a.mean(dim=0) )\n",
        "print('a mean y: ', a.mean(dim=1) )\n",
        "\n",
        "a = torch.Tensor([1, 2, 3, 4, 5, 6, 7, 8, 9, 10])\n",
        "print('a std: ', a.std(dim=0) )"
      ],
      "execution_count": null,
      "outputs": [
        {
          "output_type": "stream",
          "text": [
            "--------------------\n",
            "--------------------\n",
            "torch.Size([10])\n",
            "tensor(5.5000)\n",
            "a size:  torch.Size([2, 10])\n",
            "a mean x:  tensor([ 1.,  2.,  3.,  4.,  5.,  6.,  7.,  8.,  9., 10.])\n",
            "a mean y:  tensor([5.5000, 5.5000])\n",
            "a std:  tensor(3.0277)\n"
          ],
          "name": "stdout"
        }
      ]
    },
    {
      "cell_type": "code",
      "metadata": {
        "id": "q16ZD56JBUbi",
        "colab_type": "code",
        "colab": {}
      },
      "source": [
        ""
      ],
      "execution_count": null,
      "outputs": []
    }
  ]
}